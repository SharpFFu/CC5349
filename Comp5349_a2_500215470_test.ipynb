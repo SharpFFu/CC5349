{
  "nbformat": 4,
  "nbformat_minor": 0,
  "metadata": {
    "colab": {
      "name": "Comp5349_a2_500215470.ipynb",
      "provenance": [],
      "collapsed_sections": [],
      "include_colab_link": true
    },
    "kernelspec": {
      "name": "python3",
      "display_name": "Python 3"
    },
    "language_info": {
      "name": "python"
    }
  },
  "cells": [
    {
      "cell_type": "markdown",
      "metadata": {
        "id": "view-in-github",
        "colab_type": "text"
      },
      "source": [
        "<a href=\"https://colab.research.google.com/github/SharpFFu/CC5349/blob/main/Comp5349_a2_500215470_test.ipynb\" target=\"_parent\"><img src=\"https://colab.research.google.com/assets/colab-badge.svg\" alt=\"Open In Colab\"/></a>"
      ]
    },
    {
      "cell_type": "markdown",
      "source": [
        "### Introduction\n",
        "This notebook demonstrates a few useful methods for loading json file and for handling nested json objects. The example file is `test.json` in assignment 2. "
      ],
      "metadata": {
        "id": "VByjj8j2LW_Y"
      }
    },
    {
      "cell_type": "code",
      "source": [
        "!pip install pyspark"
      ],
      "metadata": {
        "colab": {
          "base_uri": "https://localhost:8080/"
        },
        "id": "G9y2lXPabxXQ",
        "outputId": "cba8e1d3-4cdb-4961-a256-9e531ba6b568"
      },
      "execution_count": 1,
      "outputs": [
        {
          "output_type": "stream",
          "name": "stdout",
          "text": [
            "Looking in indexes: https://pypi.org/simple, https://us-python.pkg.dev/colab-wheels/public/simple/\n",
            "Collecting pyspark\n",
            "  Downloading pyspark-3.2.1.tar.gz (281.4 MB)\n",
            "\u001b[K     |████████████████████████████████| 281.4 MB 34 kB/s \n",
            "\u001b[?25hCollecting py4j==0.10.9.3\n",
            "  Downloading py4j-0.10.9.3-py2.py3-none-any.whl (198 kB)\n",
            "\u001b[K     |████████████████████████████████| 198 kB 40.3 MB/s \n",
            "\u001b[?25hBuilding wheels for collected packages: pyspark\n",
            "  Building wheel for pyspark (setup.py) ... \u001b[?25l\u001b[?25hdone\n",
            "  Created wheel for pyspark: filename=pyspark-3.2.1-py2.py3-none-any.whl size=281853642 sha256=054a8ac59701a888b769b292fc309e6657fca53fd5542f4ff50e78eea3d07e52\n",
            "  Stored in directory: /root/.cache/pip/wheels/9f/f5/07/7cd8017084dce4e93e84e92efd1e1d5334db05f2e83bcef74f\n",
            "Successfully built pyspark\n",
            "Installing collected packages: py4j, pyspark\n",
            "Successfully installed py4j-0.10.9.3 pyspark-3.2.1\n"
          ]
        }
      ]
    },
    {
      "cell_type": "markdown",
      "source": [
        "### Connect to Google Drive"
      ],
      "metadata": {
        "id": "ScghngHDln-8"
      }
    },
    {
      "cell_type": "code",
      "source": [
        "from google.colab import drive\n",
        "drive.mount('/content/drive')"
      ],
      "metadata": {
        "colab": {
          "base_uri": "https://localhost:8080/"
        },
        "id": "tYF67uVdWF7u",
        "outputId": "1ca8629f-faed-4bf3-c644-47c81c7ef7ef"
      },
      "execution_count": 2,
      "outputs": [
        {
          "output_type": "stream",
          "name": "stdout",
          "text": [
            "Mounted at /content/drive\n"
          ]
        }
      ]
    },
    {
      "cell_type": "markdown",
      "source": [
        "### Creat spark"
      ],
      "metadata": {
        "id": "_ZNrho2cdTGb"
      }
    },
    {
      "cell_type": "code",
      "source": [
        "from pyspark.sql import SparkSession\n",
        "\n",
        "spark = SparkSession \\\n",
        "    .builder \\\n",
        "    .appName(\"COMP5349 A2 500215470\") \\\n",
        "    .config(\"spark.driver.memory\", \"16g\")\\\n",
        "    .config(\"spark.sql.inMemoryColumnarStorage.compressed\", \"true\")\\\n",
        "    .config(\"spark.sql.execution.arrow.enabled\", \"true\")\\\n",
        "    .getOrCreate() "
      ],
      "metadata": {
        "id": "U_4ewR2RcJ8d"
      },
      "execution_count": 3,
      "outputs": []
    },
    {
      "cell_type": "markdown",
      "source": [
        "### Load Json file as data frame"
      ],
      "metadata": {
        "id": "uFtob5JpMfKp"
      }
    },
    {
      "cell_type": "code",
      "source": [
        "test_data = \"/content/drive/MyDrive/comp5349/a2_data/test.json\"\n",
        "test_init_df = spark.read.json(test_data)"
      ],
      "metadata": {
        "id": "Dqm9Fy1bcRQ6"
      },
      "execution_count": 4,
      "outputs": []
    },
    {
      "cell_type": "code",
      "source": [
        "# The original file will be loaded into a data frame with one row and two columns\n",
        "test_init_df.show(1)"
      ],
      "metadata": {
        "colab": {
          "base_uri": "https://localhost:8080/"
        },
        "id": "fKSNHBdQownO",
        "outputId": "216efad2-6bc1-4c05-ab14-ebbc4231722e"
      },
      "execution_count": 5,
      "outputs": [
        {
          "output_type": "stream",
          "name": "stdout",
          "text": [
            "+--------------------+--------+\n",
            "|                data| version|\n",
            "+--------------------+--------+\n",
            "|[{[{Exhibit 10.16...|aok_v1.0|\n",
            "+--------------------+--------+\n",
            "\n"
          ]
        }
      ]
    },
    {
      "cell_type": "code",
      "source": [
        "test_init_df.printSchema()"
      ],
      "metadata": {
        "colab": {
          "base_uri": "https://localhost:8080/"
        },
        "id": "JOlm3gB3fhJv",
        "outputId": "5e36240d-6b7d-47ac-c9ae-f47e24c09e2d"
      },
      "execution_count": 6,
      "outputs": [
        {
          "output_type": "stream",
          "name": "stdout",
          "text": [
            "root\n",
            " |-- data: array (nullable = true)\n",
            " |    |-- element: struct (containsNull = true)\n",
            " |    |    |-- paragraphs: array (nullable = true)\n",
            " |    |    |    |-- element: struct (containsNull = true)\n",
            " |    |    |    |    |-- context: string (nullable = true)\n",
            " |    |    |    |    |-- qas: array (nullable = true)\n",
            " |    |    |    |    |    |-- element: struct (containsNull = true)\n",
            " |    |    |    |    |    |    |-- answers: array (nullable = true)\n",
            " |    |    |    |    |    |    |    |-- element: struct (containsNull = true)\n",
            " |    |    |    |    |    |    |    |    |-- answer_start: long (nullable = true)\n",
            " |    |    |    |    |    |    |    |    |-- text: string (nullable = true)\n",
            " |    |    |    |    |    |    |-- id: string (nullable = true)\n",
            " |    |    |    |    |    |    |-- is_impossible: boolean (nullable = true)\n",
            " |    |    |    |    |    |    |-- question: string (nullable = true)\n",
            " |    |    |-- title: string (nullable = true)\n",
            " |-- version: string (nullable = true)\n",
            "\n"
          ]
        }
      ]
    },
    {
      "cell_type": "markdown",
      "source": [
        ""
      ],
      "metadata": {
        "id": "wGvY6UkZfZzG"
      }
    },
    {
      "cell_type": "code",
      "source": [
        "from pyspark.sql.functions import explode\n",
        "from pyspark.sql import SparkSession\n",
        "from pyspark.sql.functions import *\n",
        "from pyspark.sql import Window, Row\n",
        "from pyspark.sql.types import IntegerType, StringType, FloatType\n",
        "import random"
      ],
      "metadata": {
        "id": "e4ppfnS-flFa"
      },
      "execution_count": 7,
      "outputs": []
    },
    {
      "cell_type": "code",
      "source": [
        "Test_data_df = test_init_df.select(explode(\"data\").alias(\"data\"))"
      ],
      "metadata": {
        "id": "1UQQmmkFdscN"
      },
      "execution_count": 8,
      "outputs": []
    },
    {
      "cell_type": "markdown",
      "source": [
        "1. paragraph"
      ],
      "metadata": {
        "id": "_rFwgscok7j1"
      }
    },
    {
      "cell_type": "code",
      "source": [
        "Test_data_df = Test_data_df.select(explode(\"data.paragraphs\").alias(\"paragraph\"))\n",
        "Test_data_df.show(5)"
      ],
      "metadata": {
        "colab": {
          "base_uri": "https://localhost:8080/"
        },
        "id": "56dJd3hjfUIf",
        "outputId": "0f9044ad-c910-43af-d906-60d921f9ea37"
      },
      "execution_count": 9,
      "outputs": [
        {
          "output_type": "stream",
          "name": "stdout",
          "text": [
            "+--------------------+\n",
            "|           paragraph|\n",
            "+--------------------+\n",
            "|{Exhibit 10.16 SU...|\n",
            "|{1               ...|\n",
            "|{Exhibit 10.2\\n\\n...|\n",
            "|{Exhibit 10.13\\n\\...|\n",
            "|{ENDORSEMENT\\n\\nC...|\n",
            "+--------------------+\n",
            "only showing top 5 rows\n",
            "\n"
          ]
        }
      ]
    },
    {
      "cell_type": "markdown",
      "source": [
        "2.paragraph+qas"
      ],
      "metadata": {
        "id": "bbYQrVOBllP4"
      }
    },
    {
      "cell_type": "code",
      "source": [
        "Test_data_df = Test_data_df.select(col(\"paragraph.context\").alias(\"paragraph_context\"),explode(\"paragraph.qas\").alias('qas'))\n",
        "Test_data_df.show(5)\n"
      ],
      "metadata": {
        "colab": {
          "base_uri": "https://localhost:8080/"
        },
        "id": "b9SV28sUlF_j",
        "outputId": "20fc4589-1c6f-496a-af6c-d27e8865cd8a"
      },
      "execution_count": 10,
      "outputs": [
        {
          "output_type": "stream",
          "name": "stdout",
          "text": [
            "+--------------------+--------------------+\n",
            "|   paragraph_context|                 qas|\n",
            "+--------------------+--------------------+\n",
            "|Exhibit 10.16 SUP...|{[{14, SUPPLY CON...|\n",
            "|Exhibit 10.16 SUP...|{[{143, The selle...|\n",
            "|Exhibit 10.16 SUP...|{[], LohaCompanyl...|\n",
            "|Exhibit 10.16 SUP...|{[], LohaCompanyl...|\n",
            "|Exhibit 10.16 SUP...|{[{10985, The Con...|\n",
            "+--------------------+--------------------+\n",
            "only showing top 5 rows\n",
            "\n"
          ]
        }
      ]
    },
    {
      "cell_type": "markdown",
      "source": [
        "3.paragraph+(qas->)qas_question,qas_is_impossible,answer"
      ],
      "metadata": {
        "id": "lvSaxoDhl3n9"
      }
    },
    {
      "cell_type": "code",
      "source": [
        "Test_data_df =Test_data_df.select(col(\"paragraph_context\"),\n",
        "col(\"qas.question\").alias(\"qas_question\"),\n",
        "col(\"qas.is_impossible\").alias(\"qas_is_impossible\"),explode_outer(\"qas.answers\").alias('answers'),\n",
        ")\n",
        "Test_data_df.show(5)"
      ],
      "metadata": {
        "colab": {
          "base_uri": "https://localhost:8080/"
        },
        "id": "obmyZrzzlHsp",
        "outputId": "fc492b2f-7750-43f0-b2f0-4b388d22a80b"
      },
      "execution_count": 11,
      "outputs": [
        {
          "output_type": "stream",
          "name": "stdout",
          "text": [
            "+--------------------+--------------------+-----------------+--------------------+\n",
            "|   paragraph_context|        qas_question|qas_is_impossible|             answers|\n",
            "+--------------------+--------------------+-----------------+--------------------+\n",
            "|Exhibit 10.16 SUP...|Highlight the par...|            false|{14, SUPPLY CONTR...|\n",
            "|Exhibit 10.16 SUP...|Highlight the par...|            false|  {143, The seller:}|\n",
            "|Exhibit 10.16 SUP...|Highlight the par...|            false|{49, The buyer/En...|\n",
            "|Exhibit 10.16 SUP...|Highlight the par...|             true|                null|\n",
            "|Exhibit 10.16 SUP...|Highlight the par...|             true|                null|\n",
            "+--------------------+--------------------+-----------------+--------------------+\n",
            "only showing top 5 rows\n",
            "\n"
          ]
        }
      ]
    },
    {
      "cell_type": "markdown",
      "source": [
        "4.Paragraph+qas_question+qas_is_impossible+(answer)->answer_start,answer_text"
      ],
      "metadata": {
        "id": "60MKlYB4mZA0"
      }
    },
    {
      "cell_type": "code",
      "source": [
        "Test_data_df = Test_data_df.select(col(\"paragraph_context\"),\n",
        "  col(\"qas_question\"),\n",
        "  col(\"qas_is_impossible\"),\n",
        "  col(\"answers.answer_start\").alias(\"answer_start\"),\n",
        "  col(\"answers.text\").alias(\"answer_text\"),\n",
        ")\n",
        "Test_data_df.show(5)"
      ],
      "metadata": {
        "colab": {
          "base_uri": "https://localhost:8080/"
        },
        "id": "TaiT_uSCmU7U",
        "outputId": "00c3d14a-e809-45cb-fc8a-9ca19682582c"
      },
      "execution_count": 12,
      "outputs": [
        {
          "output_type": "stream",
          "name": "stdout",
          "text": [
            "+--------------------+--------------------+-----------------+------------+--------------------+\n",
            "|   paragraph_context|        qas_question|qas_is_impossible|answer_start|         answer_text|\n",
            "+--------------------+--------------------+-----------------+------------+--------------------+\n",
            "|Exhibit 10.16 SUP...|Highlight the par...|            false|          14|     SUPPLY CONTRACT|\n",
            "|Exhibit 10.16 SUP...|Highlight the par...|            false|         143|         The seller:|\n",
            "|Exhibit 10.16 SUP...|Highlight the par...|            false|          49|The buyer/End-Use...|\n",
            "|Exhibit 10.16 SUP...|Highlight the par...|             true|        null|                null|\n",
            "|Exhibit 10.16 SUP...|Highlight the par...|             true|        null|                null|\n",
            "+--------------------+--------------------+-----------------+------------+--------------------+\n",
            "only showing top 5 rows\n",
            "\n"
          ]
        }
      ]
    },
    {
      "cell_type": "markdown",
      "source": [
        "5.select qas_is_impossible == False"
      ],
      "metadata": {
        "id": "OK70PKpHoWHY"
      }
    },
    {
      "cell_type": "code",
      "source": [
        "Test_data_P_df = Test_data_df.where(col(\"qas_is_impossible\") == False)"
      ],
      "metadata": {
        "id": "Y0hbZiqdKGJd"
      },
      "execution_count": 13,
      "outputs": []
    },
    {
      "cell_type": "code",
      "source": [
        "Test_data_P_df.show(5)"
      ],
      "metadata": {
        "colab": {
          "base_uri": "https://localhost:8080/"
        },
        "id": "_jwRhdVnivhB",
        "outputId": "0146acb9-30aa-4ae9-b856-5d6b3b30efdd"
      },
      "execution_count": 14,
      "outputs": [
        {
          "output_type": "stream",
          "name": "stdout",
          "text": [
            "+--------------------+--------------------+-----------------+------------+--------------------+\n",
            "|   paragraph_context|        qas_question|qas_is_impossible|answer_start|         answer_text|\n",
            "+--------------------+--------------------+-----------------+------------+--------------------+\n",
            "|Exhibit 10.16 SUP...|Highlight the par...|            false|          14|     SUPPLY CONTRACT|\n",
            "|Exhibit 10.16 SUP...|Highlight the par...|            false|         143|         The seller:|\n",
            "|Exhibit 10.16 SUP...|Highlight the par...|            false|          49|The buyer/End-Use...|\n",
            "|Exhibit 10.16 SUP...|Highlight the par...|            false|       10985|The Contract is v...|\n",
            "|Exhibit 10.16 SUP...|Highlight the par...|            false|       10691|It will be govern...|\n",
            "+--------------------+--------------------+-----------------+------------+--------------------+\n",
            "only showing top 5 rows\n",
            "\n"
          ]
        }
      ]
    },
    {
      "cell_type": "markdown",
      "source": [
        "Count the number of contracts that contain poss_record for each question"
      ],
      "metadata": {
        "id": "HKUnyIpjcWHS"
      }
    },
    {
      "cell_type": "code",
      "source": [
        "pos_contract_N = Test_data_P_df.groupby(\"paragraph_context\").count().withColumnRenamed(\"count\",\"positive_contract_num\")\n",
        "pos_contract_N.show(5)"
      ],
      "metadata": {
        "colab": {
          "base_uri": "https://localhost:8080/"
        },
        "id": "8LZeZD0_DLZh",
        "outputId": "1fdea8c0-230f-4384-83ec-6fcdd0737923"
      },
      "execution_count": 15,
      "outputs": [
        {
          "output_type": "stream",
          "name": "stdout",
          "text": [
            "+--------------------+---------------------+\n",
            "|   paragraph_context|positive_contract_num|\n",
            "+--------------------+---------------------+\n",
            "|Exhibit 10.1\\n\\n[...|                   43|\n",
            "|EXHIBIT 10.25    ...|                   22|\n",
            "|EXHIBIT 99.4\\n\\n ...|                   26|\n",
            "|Exhibit 10.13\\n\\n...|                   83|\n",
            "|Exhibit 10.16 SUP...|                    7|\n",
            "+--------------------+---------------------+\n",
            "only showing top 5 rows\n",
            "\n"
          ]
        }
      ]
    },
    {
      "cell_type": "markdown",
      "source": [
        "Convert to RDD"
      ],
      "metadata": {
        "id": "csA0T9Jlo6fV"
      }
    },
    {
      "cell_type": "code",
      "source": [
        "Test_RDD = Test_data_P_df.rdd.map(lambda x:(x[0], x[1], x[2], x[3], x[4])).cache()"
      ],
      "metadata": {
        "id": "9XD1fAGMosYY"
      },
      "execution_count": 172,
      "outputs": []
    },
    {
      "cell_type": "markdown",
      "source": [
        "Cut data to the positive samples and Possible negative samples( stride = 2048 window = 4096)"
      ],
      "metadata": {
        "id": "GLsYAG_adpx2"
      }
    },
    {
      "cell_type": "code",
      "source": [
        "def sample_pos(line):\n",
        "    stride = 2048\n",
        "    window = 4096\n",
        "    result = []\n",
        "    length = len(line[0])\n",
        "    loop_num = int(length / stride) + 1\n",
        "    index = 0\n",
        "    neg_result = []\n",
        "    for i in range(loop_num):\n",
        "        c_start = line[3]\n",
        "        c_end = line[3] + len(line[4])\n",
        "        if (i *stride>c_end) or (i*stride+window <c_start):\n",
        "          neg_result.append(Row(source=line[0][i * stride: i * stride + window], qas_question=line[1], answer_start=0, answer_end=0, type_name=\"possible negative\"))  \n",
        "        elif(i* stride <= c_start < i * stride + window) :\n",
        "          if i * stride + window > c_end:\n",
        "           index_end=c_end-i*stride \n",
        "           if index_end>=window:\n",
        "             index_end=window\n",
        "           result.append(Row(source=line[0][i * stride: i * stride + window], qas_question=line[1], answer_start=line[3] % stride, answer_end=index_end, type_name=\"positive\"))\n",
        "           index += 1\n",
        "          else :\n",
        "           index_end=window\n",
        "           result.append(Row(source=line[0][i * stride: i * stride + window], qas_question=line[1], answer_start=line[3] % stride, answer_end=index_end, type_name=\"positive\"))\n",
        "           index += 1\n",
        "        elif ( i * stride + window>i* stride >= c_start):\n",
        "          if i * stride + window > c_end:\n",
        "           index_end=i*stride-c_end\n",
        "           if index_end>=window:\n",
        "             index_end=window\n",
        "           result.append(Row(source=line[0][i * stride: i * stride + window], qas_question=line[1], answer_start=0, answer_end=index_end, type_name=\"positive\"))\n",
        "           index += 1\n",
        "          else :\n",
        "           result.append(Row(source=line[0][i * stride: i * stride + window], qas_question=line[1], answer_start=0, answer_end=window, type_name=\"positive\"))  \n",
        "           index += 1          \n",
        "    result.extend(neg_result[:index])\n",
        "    return result"
      ],
      "metadata": {
        "id": "oEngwwHTuiwd"
      },
      "execution_count": 173,
      "outputs": []
    },
    {
      "cell_type": "code",
      "source": [
        "\n",
        "pos_Sample_rdd= Test_RDD.flatMap(sample_pos)\n",
        "pos_Sample_df= spark.createDataFrame(pos_Sample_rdd).cache()"
      ],
      "metadata": {
        "id": "cfD1BqGggE5A"
      },
      "execution_count": 174,
      "outputs": []
    },
    {
      "cell_type": "code",
      "source": [
        "pos_Sample_df.show(5)"
      ],
      "metadata": {
        "colab": {
          "base_uri": "https://localhost:8080/"
        },
        "id": "m4vVBt0j-Gnx",
        "outputId": "ebe6de9e-1cd8-4d83-8c6d-2560c22e46ca"
      },
      "execution_count": 175,
      "outputs": [
        {
          "output_type": "stream",
          "name": "stdout",
          "text": [
            "+--------------------+--------------------+------------+----------+-----------------+\n",
            "|              source|        qas_question|answer_start|answer_end|        type_name|\n",
            "+--------------------+--------------------+------------+----------+-----------------+\n",
            "|Exhibit 10.16 SUP...|Highlight the par...|          14|        29|         positive|\n",
            "| F-1, 12/9/2019\\n...|Highlight the par...|           0|         0|possible negative|\n",
            "|Exhibit 10.16 SUP...|Highlight the par...|         143|       154|         positive|\n",
            "| F-1, 12/9/2019\\n...|Highlight the par...|           0|         0|possible negative|\n",
            "|Exhibit 10.16 SUP...|Highlight the par...|          49|       117|         positive|\n",
            "+--------------------+--------------------+------------+----------+-----------------+\n",
            "only showing top 5 rows\n",
            "\n"
          ]
        }
      ]
    },
    {
      "cell_type": "markdown",
      "source": [
        ""
      ],
      "metadata": {
        "id": "Y_gYvNxfd-HW"
      }
    },
    {
      "cell_type": "code",
      "source": [
        "pos_result = pos_Sample_df.select(\"source\",\"qas_question\",\"answer_start\",\"answer_end\")\n",
        "pos_count = pos_Sample_df.where(col(\"type_name\")==\"positive\").groupBy(\"qas_question\").count()"
      ],
      "metadata": {
        "id": "CS4NZDiq-ybM"
      },
      "execution_count": 177,
      "outputs": []
    },
    {
      "cell_type": "code",
      "source": [
        "pos_result.show(5)"
      ],
      "metadata": {
        "colab": {
          "base_uri": "https://localhost:8080/"
        },
        "id": "kdfiSWHV_PM6",
        "outputId": "d23ca375-6343-4417-bc53-fef6004c76f9"
      },
      "execution_count": 178,
      "outputs": [
        {
          "output_type": "stream",
          "name": "stdout",
          "text": [
            "+--------------------+--------------------+------------+----------+\n",
            "|              source|        qas_question|answer_start|answer_end|\n",
            "+--------------------+--------------------+------------+----------+\n",
            "|Exhibit 10.16 SUP...|Highlight the par...|          14|        29|\n",
            "| F-1, 12/9/2019\\n...|Highlight the par...|           0|         0|\n",
            "|Exhibit 10.16 SUP...|Highlight the par...|         143|       154|\n",
            "| F-1, 12/9/2019\\n...|Highlight the par...|           0|         0|\n",
            "|Exhibit 10.16 SUP...|Highlight the par...|          49|       117|\n",
            "+--------------------+--------------------+------------+----------+\n",
            "only showing top 5 rows\n",
            "\n"
          ]
        }
      ]
    },
    {
      "cell_type": "code",
      "source": [
        "pos_count.show(5)"
      ],
      "metadata": {
        "colab": {
          "base_uri": "https://localhost:8080/"
        },
        "id": "aauT-aXP_S5J",
        "outputId": "e12877d9-c3d1-4f10-b5c7-5433bc6edf5a"
      },
      "execution_count": 179,
      "outputs": [
        {
          "output_type": "stream",
          "name": "stdout",
          "text": [
            "+--------------------+-----+\n",
            "|        qas_question|count|\n",
            "+--------------------+-----+\n",
            "|Highlight the par...|  257|\n",
            "|Highlight the par...|  289|\n",
            "|Highlight the par...|  141|\n",
            "|Highlight the par...|  224|\n",
            "|Highlight the par...|  254|\n",
            "+--------------------+-----+\n",
            "only showing top 5 rows\n",
            "\n"
          ]
        }
      ]
    },
    {
      "cell_type": "code",
      "source": [
        "Test_data_IM_df = Test_data_df.where(col(\"qas_is_impossible\") == True).join(pos_count,\"qas_question\")"
      ],
      "metadata": {
        "id": "T39qElBjKimy"
      },
      "execution_count": 180,
      "outputs": []
    },
    {
      "cell_type": "code",
      "source": [
        "Test_data_IM_df.show(5)"
      ],
      "metadata": {
        "colab": {
          "base_uri": "https://localhost:8080/"
        },
        "id": "uU34zlYgLYsi",
        "outputId": "2b351e5d-bf0d-4aab-c5a4-ad015e4a3add"
      },
      "execution_count": 181,
      "outputs": [
        {
          "output_type": "stream",
          "name": "stdout",
          "text": [
            "+--------------------+--------------------+-----------------+------------+-----------+-----+\n",
            "|        qas_question|   paragraph_context|qas_is_impossible|answer_start|answer_text|count|\n",
            "+--------------------+--------------------+-----------------+------------+-----------+-----+\n",
            "|Highlight the par...|EXHIBIT 99.4\\n\\n ...|             true|        null|       null|  257|\n",
            "|Highlight the par...|Exhibit 10.1 JOIN...|             true|        null|       null|  257|\n",
            "|Highlight the par...|Exhibit 10.5   IN...|             true|        null|       null|  257|\n",
            "|Highlight the par...|Exhibit 10.26\\n\\n...|             true|        null|       null|  257|\n",
            "|Highlight the par...|Exhibit 4.5\\n\\nCO...|             true|        null|       null|  257|\n",
            "+--------------------+--------------------+-----------------+------------+-----------+-----+\n",
            "only showing top 5 rows\n",
            "\n"
          ]
        }
      ]
    },
    {
      "cell_type": "code",
      "source": [
        "impos_sample_df = Test_data_IM_df.join(pos_contract_N ,\"paragraph_context\").cache()"
      ],
      "metadata": {
        "id": "6fTMdTAiDdnN"
      },
      "execution_count": 198,
      "outputs": []
    },
    {
      "cell_type": "code",
      "source": [
        "impos_sample_df.show(5)"
      ],
      "metadata": {
        "colab": {
          "base_uri": "https://localhost:8080/"
        },
        "id": "G7siAKFSLqyW",
        "outputId": "db6eee84-2753-4da0-a03a-9c79ae3c5979"
      },
      "execution_count": 199,
      "outputs": [
        {
          "output_type": "stream",
          "name": "stdout",
          "text": [
            "+--------------------+--------------------+-----------------+------------+-----------+-----+---------------------+\n",
            "|   paragraph_context|        qas_question|qas_is_impossible|answer_start|answer_text|count|positive_contract_num|\n",
            "+--------------------+--------------------+-----------------+------------+-----------+-----+---------------------+\n",
            "|EXHIBIT 99.4\\n\\n ...|Highlight the par...|             true|        null|       null|  257|                   26|\n",
            "|Exhibit 10.1 JOIN...|Highlight the par...|             true|        null|       null|  257|                   19|\n",
            "|Exhibit 10.5   IN...|Highlight the par...|             true|        null|       null|  257|                   41|\n",
            "|Exhibit 10.26\\n\\n...|Highlight the par...|             true|        null|       null|  257|                   11|\n",
            "|Exhibit 4.5\\n\\nCO...|Highlight the par...|             true|        null|       null|  257|                   13|\n",
            "+--------------------+--------------------+-----------------+------------+-----------+-----+---------------------+\n",
            "only showing top 5 rows\n",
            "\n"
          ]
        }
      ]
    },
    {
      "cell_type": "code",
      "source": [
        "def sample_impos_count(count, positive_contract_count):\n",
        "  caclunumber= float(count / positive_contract_count)\n",
        "  result = int(count / positive_contract_count)\n",
        "  if caclunumber<result:\n",
        "    result+=1\n",
        "  return result"
      ],
      "metadata": {
        "id": "gppZC3GhQGJG"
      },
      "execution_count": 184,
      "outputs": []
    },
    {
      "cell_type": "code",
      "source": [
        "udf_fc = udf(lambda x,y:sample_impos_count(x,y))"
      ],
      "metadata": {
        "id": "yWUweK4xPRQS"
      },
      "execution_count": 200,
      "outputs": []
    },
    {
      "cell_type": "code",
      "source": [
        "impos_sample_df = impos_sample_df.withColumn(\"impossible_count\",udf_fc(col(\"count\"),col(\"positive_contract_num\"))).select(\"*\",round(\"impossible_count\")).withColumnRenamed(\"round(impossible_count, 0)\",\"impossible_count_result\")"
      ],
      "metadata": {
        "id": "nXFT1YI3RAjt"
      },
      "execution_count": 201,
      "outputs": []
    },
    {
      "cell_type": "code",
      "source": [
        "impos_sample_df  = impos_sample_df .select(\"paragraph_context\",\"qas_question\",\"qas_is_impossible\",\"answer_start\",\"answer_text\",\"impossible_count_result\")"
      ],
      "metadata": {
        "id": "cjqcxvdMQK0E"
      },
      "execution_count": 202,
      "outputs": []
    },
    {
      "cell_type": "code",
      "source": [
        "impos_sample_df .show(5)"
      ],
      "metadata": {
        "colab": {
          "base_uri": "https://localhost:8080/"
        },
        "id": "UTEy3qLdRF6Z",
        "outputId": "35f67df0-6442-4ddc-fec3-3f2daaf6d7d4"
      },
      "execution_count": 203,
      "outputs": [
        {
          "output_type": "stream",
          "name": "stdout",
          "text": [
            "+--------------------+--------------------+-----------------+------------+-----------+-----------------------+\n",
            "|   paragraph_context|        qas_question|qas_is_impossible|answer_start|answer_text|impossible_count_result|\n",
            "+--------------------+--------------------+-----------------+------------+-----------+-----------------------+\n",
            "|EXHIBIT 99.4\\n\\n ...|Highlight the par...|             true|        null|       null|                    9.0|\n",
            "|Exhibit 10.1 JOIN...|Highlight the par...|             true|        null|       null|                   13.0|\n",
            "|Exhibit 10.5   IN...|Highlight the par...|             true|        null|       null|                    6.0|\n",
            "|Exhibit 10.26\\n\\n...|Highlight the par...|             true|        null|       null|                   23.0|\n",
            "|Exhibit 4.5\\n\\nCO...|Highlight the par...|             true|        null|       null|                   19.0|\n",
            "+--------------------+--------------------+-----------------+------------+-----------+-----------------------+\n",
            "only showing top 5 rows\n",
            "\n"
          ]
        }
      ]
    },
    {
      "cell_type": "code",
      "source": [
        "impos_sample_rdd = impos_sample_df.rdd.map(lambda x:(x[0], x[1], x[2], x[3], x[4], x[5]))"
      ],
      "metadata": {
        "id": "HPTDgcyaRMwp"
      },
      "execution_count": 204,
      "outputs": []
    },
    {
      "cell_type": "code",
      "source": [
        "def sample_impos(line):\n",
        "  stride = 2048\n",
        "  window_size = 4096\n",
        "  result = []\n",
        "  source_number = int(line[5])\n",
        "  context_length = len(line[1])\n",
        "  if(context_length % stride ==0):\n",
        "    times = context_length / stride\n",
        "  else:\n",
        "    times = int(context_length / stride) + 1\n",
        "  for i in range(times):\n",
        "      result.append(Row(source=line[1][i * stride: i * stride + window_size], question=line[0], answer_start=0, answer_end=0))\n",
        "  return result[:source_number]\n"
      ],
      "metadata": {
        "id": "YQ9aLUA8RR31"
      },
      "execution_count": 205,
      "outputs": []
    },
    {
      "cell_type": "code",
      "source": [
        "Ne_rdd = impos_sample_rdd.flatMap(sample_impos)"
      ],
      "metadata": {
        "id": "1lH1OiLfA3G0"
      },
      "execution_count": 206,
      "outputs": []
    },
    {
      "cell_type": "code",
      "source": [
        "Ne_result = spark.createDataFrame(Ne_rdd).cache()\n",
        "F_result = pos_result.union(Ne_result)"
      ],
      "metadata": {
        "id": "gfbHnxqORZ7b"
      },
      "execution_count": 207,
      "outputs": []
    },
    {
      "cell_type": "code",
      "source": [
        "F_result = F_result.withColumnRenamed(\"qas_question\",\"question\")\n"
      ],
      "metadata": {
        "id": "k_idEbVZfVTk"
      },
      "execution_count": 210,
      "outputs": []
    },
    {
      "cell_type": "code",
      "source": [
        "F_result.show()"
      ],
      "metadata": {
        "colab": {
          "base_uri": "https://localhost:8080/"
        },
        "id": "h9r-KRkURu_j",
        "outputId": "781d631a-be91-4bb0-e4da-d41db8d3e6e1"
      },
      "execution_count": 211,
      "outputs": [
        {
          "output_type": "stream",
          "name": "stdout",
          "text": [
            "+--------------------+--------------------+------------+----------+\n",
            "|              source|            question|answer_start|answer_end|\n",
            "+--------------------+--------------------+------------+----------+\n",
            "|Exhibit 10.16 SUP...|Highlight the par...|          14|        29|\n",
            "| F-1, 12/9/2019\\n...|Highlight the par...|           0|         0|\n",
            "|Exhibit 10.16 SUP...|Highlight the par...|         143|       154|\n",
            "| F-1, 12/9/2019\\n...|Highlight the par...|           0|         0|\n",
            "|Exhibit 10.16 SUP...|Highlight the par...|          49|       117|\n",
            "| F-1, 12/9/2019\\n...|Highlight the par...|           0|         0|\n",
            "|e Sellers shall a...|Highlight the par...|         745|      2857|\n",
            "|e decision of the...|Highlight the par...|         745|       809|\n",
            "|Exhibit 10.16 SUP...|Highlight the par...|           0|         0|\n",
            "| F-1, 12/9/2019\\n...|Highlight the par...|           0|         0|\n",
            "|e Sellers shall a...|Highlight the par...|         451|      2667|\n",
            "|e decision of the...|Highlight the par...|         451|       619|\n",
            "|Exhibit 10.16 SUP...|Highlight the par...|           0|         0|\n",
            "| F-1, 12/9/2019\\n...|Highlight the par...|           0|         0|\n",
            "|r the goods in ac...|Highlight the par...|         521|      3230|\n",
            "|alue and date of ...|Highlight the par...|         521|      1182|\n",
            "|Exhibit 10.16 SUP...|Highlight the par...|           0|         0|\n",
            "| F-1, 12/9/2019\\n...|Highlight the par...|           0|         0|\n",
            "|Exhibit 10.16 SUP...|Highlight the par...|        1611|      3741|\n",
            "| F-1, 12/9/2019\\n...|Highlight the par...|        1611|      1693|\n",
            "+--------------------+--------------------+------------+----------+\n",
            "only showing top 20 rows\n",
            "\n"
          ]
        }
      ]
    },
    {
      "cell_type": "code",
      "source": [
        "result.count()"
      ],
      "metadata": {
        "colab": {
          "base_uri": "https://localhost:8080/"
        },
        "id": "C0_op6KSZ1F6",
        "outputId": "47bad2b6-1297-4ce9-8d6e-c62cb080fcca"
      },
      "execution_count": 158,
      "outputs": [
        {
          "output_type": "execute_result",
          "data": {
            "text/plain": [
              "12101"
            ]
          },
          "metadata": {},
          "execution_count": 158
        }
      ]
    },
    {
      "cell_type": "code",
      "source": [
        "result.write.json(\"output_test.json\")"
      ],
      "metadata": {
        "id": "X3SSugNtZ88x"
      },
      "execution_count": 160,
      "outputs": []
    }
  ]
}